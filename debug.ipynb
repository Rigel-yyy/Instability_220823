{
 "cells": [
  {
   "cell_type": "code",
   "execution_count": 1,
   "metadata": {
    "pycharm": {
     "is_executing": true,
     "name": "#%%\n"
    }
   },
   "outputs": [
    {
     "name": "stdout",
     "output_type": "stream",
     "text": [
      "bjx_main\n",
      "[WindowsPath('bjx_main/1.csv'), WindowsPath('bjx_main/1.py'), WindowsPath('bjx_main/__init__.py')]\n"
     ]
    }
   ],
   "source": [
    "from src.tools.csv_param_tools import CsvParamParser\n",
    "ans = CsvParamParser('1').read_param(1)"
   ]
  },
  {
   "cell_type": "code",
   "execution_count": 2,
   "metadata": {
    "pycharm": {
     "name": "#%%\n"
    }
   },
   "outputs": [
    {
     "name": "stdout",
     "output_type": "stream",
     "text": [
      "bjx_main\n",
      "[WindowsPath('bjx_main/1.csv'), WindowsPath('bjx_main/1.py'), WindowsPath('bjx_main/__init__.py')]\n"
     ]
    }
   ],
   "source": [
    "parser = CsvParamParser(\"1\")"
   ]
  },
  {
   "cell_type": "code",
   "execution_count": 3,
   "metadata": {},
   "outputs": [
    {
     "data": {
      "text/plain": [
       "{'csv_pathobj': WindowsPath('bjx_main/1.csv')}"
      ]
     },
     "execution_count": 3,
     "metadata": {},
     "output_type": "execute_result"
    }
   ],
   "source": [
    "vars(parser)"
   ]
  },
  {
   "cell_type": "code",
   "execution_count": 4,
   "metadata": {},
   "outputs": [
    {
     "name": "stdout",
     "output_type": "stream",
     "text": [
      "{'a': '1', 'b': '1', 'c': '3'}\n",
      "{'a': '2', 'b': '2', 'c': '4'}\n",
      "{'a': '4', 'b': '4', 'c': '6'}\n"
     ]
    }
   ],
   "source": [
    "import csv\n",
    "with open(parser.csv_pathobj) as f:\n",
    "    f_csv = csv.DictReader(f)\n",
    "    for row in f_csv:\n",
    "        print(row)"
   ]
  },
  {
   "cell_type": "code",
   "execution_count": 5,
   "metadata": {},
   "outputs": [
    {
     "name": "stdout",
     "output_type": "stream",
     "text": [
      "Param(a='1', b='1', c='3')\n"
     ]
    }
   ],
   "source": [
    "print(ans)"
   ]
  },
  {
   "cell_type": "code",
   "execution_count": null,
   "metadata": {
    "collapsed": false,
    "jupyter": {
     "outputs_hidden": false
    },
    "pycharm": {
     "name": "#%%\n"
    }
   },
   "outputs": [],
   "source": [
    "from enum import Enum\n",
    "class TestEnum(Enum):\n",
    "    RED = 1\n",
    "    GREEN = 2\n",
    "    BLUE = 3"
   ]
  },
  {
   "cell_type": "code",
   "execution_count": null,
   "metadata": {
    "collapsed": false,
    "jupyter": {
     "outputs_hidden": false
    },
    "pycharm": {
     "name": "#%%\n"
    }
   },
   "outputs": [],
   "source": [
    "import ast\n",
    "ast.literal_eval(\"['1', 2]\")"
   ]
  },
  {
   "cell_type": "code",
   "execution_count": null,
   "metadata": {
    "collapsed": false,
    "jupyter": {
     "outputs_hidden": false
    },
    "pycharm": {
     "name": "#%%\n"
    }
   },
   "outputs": [],
   "source": []
  },
  {
   "cell_type": "code",
   "execution_count": 16,
   "metadata": {},
   "outputs": [
    {
     "data": {
      "text/plain": [
       "['1', 2]"
      ]
     },
     "execution_count": 16,
     "metadata": {},
     "output_type": "execute_result"
    }
   ],
   "source": [
    "import ast\n",
    "ast.literal_eval(\"['1', 2]\")"
   ]
  },
  {
   "cell_type": "code",
   "execution_count": 18,
   "metadata": {},
   "outputs": [],
   "source": [
    "from src.tools.useful_funcs.perturbation import SingleSine\n",
    "import numpy as np"
   ]
  },
  {
   "cell_type": "code",
   "execution_count": 19,
   "metadata": {},
   "outputs": [],
   "source": [
    "_, dist = np.indices((30, 50)).astype(float)"
   ]
  },
  {
   "cell_type": "code",
   "execution_count": 20,
   "metadata": {},
   "outputs": [
    {
     "data": {
      "text/plain": [
       "array([[-0.46918749,  0.53081251,  1.53081251, ..., 46.53081251,\n",
       "        47.53081251, 48.53081251],\n",
       "       [ 0.35238606,  1.35238606,  2.35238606, ..., 47.35238606,\n",
       "        48.35238606, 49.35238606],\n",
       "       [ 0.1758988 ,  1.1758988 ,  2.1758988 , ..., 47.1758988 ,\n",
       "        48.1758988 , 49.1758988 ],\n",
       "       ...,\n",
       "       [ 0.29253778,  1.29253778,  2.29253778, ..., 47.29253778,\n",
       "        48.29253778, 49.29253778],\n",
       "       [-0.49044913,  0.50955087,  1.50955087, ..., 46.50955087,\n",
       "        47.50955087, 48.50955087],\n",
       "       [ 0.11565993,  1.11565993,  2.11565993, ..., 47.11565993,\n",
       "        48.11565993, 49.11565993]])"
      ]
     },
     "execution_count": 20,
     "metadata": {},
     "output_type": "execute_result"
    }
   ],
   "source": [
    "perturb = SingleSine(noise=0.5, wave_num=2)\n",
    "wave_form = perturb.f(np.arange(30))\n",
    "dist += wave_form[:, np.newaxis]\n",
    "dist"
   ]
  },
  {
   "cell_type": "code",
   "execution_count": 21,
   "metadata": {},
   "outputs": [
    {
     "data": {
      "text/plain": [
       "array([[0.1, 0.1, 0.1, ..., 0.9, 0.9, 0.9],\n",
       "       [0.1, 0.1, 0.1, ..., 0.9, 0.9, 0.9],\n",
       "       [0.1, 0.1, 0.1, ..., 0.9, 0.9, 0.9],\n",
       "       ...,\n",
       "       [0.1, 0.1, 0.1, ..., 0.9, 0.9, 0.9],\n",
       "       [0.1, 0.1, 0.1, ..., 0.9, 0.9, 0.9],\n",
       "       [0.1, 0.1, 0.1, ..., 0.9, 0.9, 0.9]])"
      ]
     },
     "execution_count": 21,
     "metadata": {},
     "output_type": "execute_result"
    }
   ],
   "source": [
    "from src.tools.useful_funcs.step_function import SmoothStepTanh\n",
    "phi_func = SmoothStepTanh(mode=\"step\", step_1=0.1, step_2=0.9, x_mid=50/2, width=2)\n",
    "phi_func.f(dist)"
   ]
  },
  {
   "cell_type": "code",
   "execution_count": 22,
   "metadata": {},
   "outputs": [],
   "source": [
    "from src.tools.analyze_tools import Image\n",
    "edge = Image(phi_func.f(dist)).get_edge()"
   ]
  },
  {
   "cell_type": "code",
   "execution_count": 23,
   "metadata": {},
   "outputs": [
    {
     "data": {
      "text/plain": [
       "<matplotlib.collections.QuadMesh at 0x2f74992cfd0>"
      ]
     },
     "execution_count": 23,
     "metadata": {},
     "output_type": "execute_result"
    },
    {
     "data": {
      "image/png": "[encoded data removed]",
      "text/plain": [
       "<Figure size 432x288 with 1 Axes>"
      ]
     },
     "metadata": {
      "needs_background": "light"
     },
     "output_type": "display_data"
    }
   ],
   "source": [
    "import matplotlib.pyplot as plt\n",
    "plt.pcolormesh(edge)"
   ]
  },
  {
   "cell_type": "code",
   "execution_count": 26,
   "metadata": {},
   "outputs": [
    {
     "data": {
      "text/plain": [
       "255"
      ]
     },
     "execution_count": 26,
     "metadata": {},
     "output_type": "execute_result"
    }
   ],
   "source": [
    "edge[10,25]"
   ]
  },
  {
   "cell_type": "code",
   "execution_count": 64,
   "metadata": {},
   "outputs": [
    {
     "data": {
      "text/plain": [
       "25"
      ]
     },
     "execution_count": 64,
     "metadata": {},
     "output_type": "execute_result"
    }
   ],
   "source": [
    "np.min(np.argwhere(np.count_nonzero(edge, axis=0)>=2))"
   ]
  },
  {
   "cell_type": "code",
   "execution_count": 58,
   "metadata": {},
   "outputs": [],
   "source": [
    "tmp = np.random.rand(10)*3\n",
    "sel = np.argwhere(tmp.astype(int)>=2)"
   ]
  },
  {
   "cell_type": "code",
   "execution_count": 59,
   "metadata": {},
   "outputs": [
    {
     "data": {
      "text/plain": [
       "array([[7],\n",
       "       [8],\n",
       "       [9]], dtype=int64)"
      ]
     },
     "execution_count": 59,
     "metadata": {},
     "output_type": "execute_result"
    }
   ],
   "source": [
    "sel"
   ]
  },
  {
   "cell_type": "code",
   "execution_count": 60,
   "metadata": {},
   "outputs": [
    {
     "data": {
      "text/plain": [
       "array([1.59665137, 1.9812268 , 0.86388818, 0.126989  , 0.20492124,\n",
       "       1.45153854, 1.49395524, 2.58785034, 2.10383507, 2.2331739 ])"
      ]
     },
     "execution_count": 60,
     "metadata": {},
     "output_type": "execute_result"
    }
   ],
   "source": [
    "tmp"
   ]
  },
  {
   "cell_type": "code",
   "execution_count": 61,
   "metadata": {},
   "outputs": [
    {
     "data": {
      "text/plain": [
       "9"
      ]
     },
     "execution_count": 61,
     "metadata": {},
     "output_type": "execute_result"
    }
   ],
   "source": [
    "np.max(sel)"
   ]
  },
  {
   "cell_type": "code",
   "execution_count": 116,
   "metadata": {},
   "outputs": [
    {
     "data": {
      "text/plain": [
       "array([0.49943575, 1.25922268, 2.43110535, 3.16667828, 4.4305293 ,\n",
       "       5.04278596, 6.41863605, 7.4982617 , 8.47266208, 9.16926227])"
      ]
     },
     "execution_count": 116,
     "metadata": {},
     "output_type": "execute_result"
    }
   ],
   "source": [
    "from scipy import interpolate\n",
    "xp = np.arange(10)*0.2\n",
    "yp = 5 * xp + np.random.rand(10) * 0.5\n",
    "yp"
   ]
  },
  {
   "cell_type": "code",
   "execution_count": 117,
   "metadata": {},
   "outputs": [],
   "source": [
    "x_cpt = interpolate.interp1d(yp, xp, fill_value=\"extrapolate\")(5)"
   ]
  },
  {
   "cell_type": "code",
   "execution_count": 118,
   "metadata": {},
   "outputs": [
    {
     "data": {
      "text/plain": [
       "Text(0.7888188161826051, 6.0, '(0.9860,5)')"
      ]
     },
     "execution_count": 118,
     "metadata": {},
     "output_type": "execute_result"
    },
    {
     "data": {
      "image/png": "[encoded data removed]",
      "text/plain": [
       "<Figure size 432x288 with 1 Axes>"
      ]
     },
     "metadata": {
      "needs_background": "light"
     },
     "output_type": "display_data"
    }
   ],
   "source": [
    "fig = plt.figure()\n",
    "ax = fig.add_subplot(111)\n",
    "ax.plot(xp, yp)\n",
    "ax.scatter([x_cpt], [5], color='tab:red')\n",
    "ax.annotate(f\"({x_cpt:.4f},5)\", \n",
    "            xy=(x_cpt, 5), \n",
    "            color=\"tab:red\",\n",
    "            xytext=(0.8*x_cpt, 5*1.2),\n",
    "            arrowprops=dict(facecolor='orange', shrink=0.05),\n",
    "            ha=\"center\")"
   ]
  },
  {
   "cell_type": "code",
   "execution_count": 2,
   "metadata": {},
   "outputs": [],
   "source": [
    "import numpy as np\n",
    "test_mat = np.random.rand(2,10)"
   ]
  },
  {
   "cell_type": "code",
   "execution_count": 8,
   "metadata": {},
   "outputs": [],
   "source": [
    "test_mat = np.arange(40).reshape((5,8))"
   ]
  },
  {
   "cell_type": "code",
   "execution_count": 11,
   "metadata": {},
   "outputs": [
    {
     "data": {
      "text/plain": [
       "False"
      ]
     },
     "execution_count": 11,
     "metadata": {},
     "output_type": "execute_result"
    }
   ],
   "source": [
    "np.count_nonzero(test_mat[:, -3:] > 20) >= 10"
   ]
  },
  {
   "cell_type": "code",
   "execution_count": 13,
   "metadata": {},
   "outputs": [
    {
     "data": {
      "text/plain": [
       "1"
      ]
     },
     "execution_count": 13,
     "metadata": {},
     "output_type": "execute_result"
    }
   ],
   "source": [
    "min(1,2,5)"
   ]
  },
  {
   "cell_type": "code",
   "execution_count": 33,
   "metadata": {},
   "outputs": [
    {
     "data": {
      "text/plain": [
       "123"
      ]
     },
     "execution_count": 33,
     "metadata": {},
     "output_type": "execute_result"
    }
   ],
   "source": [
    "import copy\n",
    "class BaseClass:\n",
    "    GB_VAR1 = 1919\n",
    "    GB_VAR2 = 810\n",
    "\n",
    "class MyClass(BaseClass):\n",
    "    def __init__(self, var3):\n",
    "        self.var1 = {'a': 1}\n",
    "        self.var2 = 114514\n",
    "        self.var3 = var3\n",
    "        \n",
    "obj1 = MyClass(1919)\n",
    "obj2 = copy.deepcopy(obj1)\n",
    "\n",
    "BaseClass.GB_VAR1 = 123\n",
    "obj2.GB_VAR1"
   ]
  },
  {
   "cell_type": "code",
   "execution_count": 34,
   "metadata": {},
   "outputs": [
    {
     "data": {
      "text/plain": [
       "123"
      ]
     },
     "execution_count": 34,
     "metadata": {},
     "output_type": "execute_result"
    }
   ],
   "source": [
    "obj1.GB_VAR1"
   ]
  },
  {
   "cell_type": "code",
   "execution_count": 22,
   "metadata": {},
   "outputs": [],
   "source": [
    "obj1.GB_VAR1=233"
   ]
  },
  {
   "cell_type": "code",
   "execution_count": 27,
   "metadata": {},
   "outputs": [
    {
     "data": {
      "text/plain": [
       "1919"
      ]
     },
     "execution_count": 27,
     "metadata": {},
     "output_type": "execute_result"
    }
   ],
   "source": [
    "obj2.GB_VAR1"
   ]
  },
  {
   "cell_type": "code",
   "execution_count": 26,
   "metadata": {},
   "outputs": [
    {
     "data": {
      "text/plain": [
       "233"
      ]
     },
     "execution_count": 26,
     "metadata": {},
     "output_type": "execute_result"
    }
   ],
   "source": [
    "obj1.GB_VAR1"
   ]
  },
  {
   "cell_type": "code",
   "execution_count": null,
   "metadata": {},
   "outputs": [],
   "source": []
  }
 ],
 "metadata": {
  "kernelspec": {
   "display_name": "Python 3 (ipykernel)",
   "language": "python",
   "name": "python3"
  },
  "language_info": {
   "codemirror_mode": {
    "name": "ipython",
    "version": 3
   },
   "file_extension": ".py",
   "mimetype": "text/x-python",
   "name": "python",
   "nbconvert_exporter": "python",
   "pygments_lexer": "ipython3",
   "version": "3.10.5"
  }
 },
 "nbformat": 4,
 "nbformat_minor": 4
}
